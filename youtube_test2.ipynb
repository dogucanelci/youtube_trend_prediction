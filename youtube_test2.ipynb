{
 "cells": [
  {
   "cell_type": "code",
   "execution_count": 3,
   "metadata": {},
   "outputs": [],
   "source": [
    "#Youtube like/view rate prediction"
   ]
  },
  {
   "cell_type": "code",
   "execution_count": 4,
   "metadata": {},
   "outputs": [
    {
     "name": "stderr",
     "output_type": "stream",
     "text": [
      "c:\\Users\\dogucan.elci\\Miniconda3\\lib\\site-packages\\tqdm\\auto.py:22: TqdmWarning: IProgress not found. Please update jupyter and ipywidgets. See https://ipywidgets.readthedocs.io/en/stable/user_install.html\n",
      "  from .autonotebook import tqdm as notebook_tqdm\n"
     ]
    }
   ],
   "source": [
    "import numpy as np # linear algebra\n",
    "import pandas as pd # data processing, CSV file I/O (e.g. pd.read_csv)\n",
    "import matplotlib.pyplot as plt\n",
    "import seaborn as sns\n",
    "from flaml import AutoML\n",
    "from catboost import CatBoostRegressor\n",
    "from sklearn.metrics import mean_absolute_error\n",
    "import warnings\n",
    "warnings.filterwarnings(action='ignore')"
   ]
  },
  {
   "cell_type": "code",
   "execution_count": 5,
   "metadata": {},
   "outputs": [],
   "source": [
    "train_df = pd.read_parquet('train.parquet')\n",
    "test_df = pd.read_parquet('test.parquet')\n",
    "sample_submission = pd.read_csv('sample_submission.csv')"
   ]
  },
  {
   "cell_type": "code",
   "execution_count": 6,
   "metadata": {},
   "outputs": [
    {
     "data": {
      "text/plain": [
       "(92275, 16969)"
      ]
     },
     "execution_count": 6,
     "metadata": {},
     "output_type": "execute_result"
    }
   ],
   "source": [
    "len(train_df) , train_df.video_id.nunique()"
   ]
  },
  {
   "cell_type": "code",
   "execution_count": 7,
   "metadata": {},
   "outputs": [
    {
     "data": {
      "text/html": [
       "<div>\n",
       "<style scoped>\n",
       "    .dataframe tbody tr th:only-of-type {\n",
       "        vertical-align: middle;\n",
       "    }\n",
       "\n",
       "    .dataframe tbody tr th {\n",
       "        vertical-align: top;\n",
       "    }\n",
       "\n",
       "    .dataframe thead th {\n",
       "        text-align: right;\n",
       "    }\n",
       "</style>\n",
       "<table border=\"1\" class=\"dataframe\">\n",
       "  <thead>\n",
       "    <tr style=\"text-align: right;\">\n",
       "      <th></th>\n",
       "      <th>video_id</th>\n",
       "      <th>title</th>\n",
       "      <th>publishedAt</th>\n",
       "      <th>channelId</th>\n",
       "      <th>channelTitle</th>\n",
       "      <th>categoryId</th>\n",
       "      <th>trending_date</th>\n",
       "      <th>tags</th>\n",
       "      <th>view_count</th>\n",
       "      <th>likes</th>\n",
       "      <th>dislikes</th>\n",
       "      <th>comment_count</th>\n",
       "      <th>thumbnail_link</th>\n",
       "      <th>comments_disabled</th>\n",
       "      <th>ratings_disabled</th>\n",
       "      <th>description</th>\n",
       "      <th>id</th>\n",
       "      <th>duration_seconds</th>\n",
       "      <th>has_thumbnail</th>\n",
       "      <th>target</th>\n",
       "    </tr>\n",
       "  </thead>\n",
       "  <tbody>\n",
       "    <tr>\n",
       "      <th>7400</th>\n",
       "      <td>pvPsJFRGleA</td>\n",
       "      <td>Justin Bieber - Holy ft. Chance The Rapper</td>\n",
       "      <td>2020-09-18 04:00:10+00:00</td>\n",
       "      <td>UCHkj014U2CQ2Nv0UZeYpE_A</td>\n",
       "      <td>JustinBieberVEVO</td>\n",
       "      <td>10</td>\n",
       "      <td>2020-09-18</td>\n",
       "      <td>Justin|Bieber|Holy|RBMG/Def|Jam|Pop</td>\n",
       "      <td>6217404</td>\n",
       "      <td>936304</td>\n",
       "      <td>13331</td>\n",
       "      <td>91366</td>\n",
       "      <td>https://i.ytimg.com/vi/pvPsJFRGleA/default.jpg</td>\n",
       "      <td>False</td>\n",
       "      <td>False</td>\n",
       "      <td>Holy out now: https://JustinBieber.lnk.to/Holy...</td>\n",
       "      <td>pvPsJFRGleA_2020-09-18</td>\n",
       "      <td>329.0</td>\n",
       "      <td>False</td>\n",
       "      <td>0.150594</td>\n",
       "    </tr>\n",
       "    <tr>\n",
       "      <th>7601</th>\n",
       "      <td>pvPsJFRGleA</td>\n",
       "      <td>Justin Bieber - Holy ft. Chance The Rapper</td>\n",
       "      <td>2020-09-18 04:00:10+00:00</td>\n",
       "      <td>UCHkj014U2CQ2Nv0UZeYpE_A</td>\n",
       "      <td>JustinBieberVEVO</td>\n",
       "      <td>10</td>\n",
       "      <td>2020-09-19</td>\n",
       "      <td>justin bieber|bieber|justin|hailey|biebs|biebe...</td>\n",
       "      <td>16239716</td>\n",
       "      <td>1555576</td>\n",
       "      <td>29634</td>\n",
       "      <td>134954</td>\n",
       "      <td>https://i.ytimg.com/vi/pvPsJFRGleA/default.jpg</td>\n",
       "      <td>False</td>\n",
       "      <td>False</td>\n",
       "      <td>Holy out now: https://JustinBieber.lnk.to/Holy...</td>\n",
       "      <td>pvPsJFRGleA_2020-09-19</td>\n",
       "      <td>329.0</td>\n",
       "      <td>False</td>\n",
       "      <td>0.095788</td>\n",
       "    </tr>\n",
       "  </tbody>\n",
       "</table>\n",
       "</div>"
      ],
      "text/plain": [
       "         video_id                                       title  \\\n",
       "7400  pvPsJFRGleA  Justin Bieber - Holy ft. Chance The Rapper   \n",
       "7601  pvPsJFRGleA  Justin Bieber - Holy ft. Chance The Rapper   \n",
       "\n",
       "                   publishedAt                 channelId      channelTitle  \\\n",
       "7400 2020-09-18 04:00:10+00:00  UCHkj014U2CQ2Nv0UZeYpE_A  JustinBieberVEVO   \n",
       "7601 2020-09-18 04:00:10+00:00  UCHkj014U2CQ2Nv0UZeYpE_A  JustinBieberVEVO   \n",
       "\n",
       "      categoryId trending_date  \\\n",
       "7400          10    2020-09-18   \n",
       "7601          10    2020-09-19   \n",
       "\n",
       "                                                   tags  view_count    likes  \\\n",
       "7400                Justin|Bieber|Holy|RBMG/Def|Jam|Pop     6217404   936304   \n",
       "7601  justin bieber|bieber|justin|hailey|biebs|biebe...    16239716  1555576   \n",
       "\n",
       "      dislikes  comment_count                                  thumbnail_link  \\\n",
       "7400     13331          91366  https://i.ytimg.com/vi/pvPsJFRGleA/default.jpg   \n",
       "7601     29634         134954  https://i.ytimg.com/vi/pvPsJFRGleA/default.jpg   \n",
       "\n",
       "      comments_disabled  ratings_disabled  \\\n",
       "7400              False             False   \n",
       "7601              False             False   \n",
       "\n",
       "                                            description  \\\n",
       "7400  Holy out now: https://JustinBieber.lnk.to/Holy...   \n",
       "7601  Holy out now: https://JustinBieber.lnk.to/Holy...   \n",
       "\n",
       "                          id  duration_seconds  has_thumbnail    target  \n",
       "7400  pvPsJFRGleA_2020-09-18             329.0          False  0.150594  \n",
       "7601  pvPsJFRGleA_2020-09-19             329.0          False  0.095788  "
      ]
     },
     "execution_count": 7,
     "metadata": {},
     "output_type": "execute_result"
    }
   ],
   "source": [
    "train_df[train_df.video_id.map(train_df.video_id.value_counts()>20)].head(2)\n",
    "#videos which keep to be include as trends for minimum 20 days"
   ]
  },
  {
   "cell_type": "code",
   "execution_count": 8,
   "metadata": {},
   "outputs": [
    {
     "data": {
      "text/html": [
       "<div>\n",
       "<style scoped>\n",
       "    .dataframe tbody tr th:only-of-type {\n",
       "        vertical-align: middle;\n",
       "    }\n",
       "\n",
       "    .dataframe tbody tr th {\n",
       "        vertical-align: top;\n",
       "    }\n",
       "\n",
       "    .dataframe thead th {\n",
       "        text-align: right;\n",
       "    }\n",
       "</style>\n",
       "<table border=\"1\" class=\"dataframe\">\n",
       "  <thead>\n",
       "    <tr style=\"text-align: right;\">\n",
       "      <th></th>\n",
       "      <th>video_id</th>\n",
       "      <th>title</th>\n",
       "      <th>publishedAt</th>\n",
       "      <th>channelId</th>\n",
       "      <th>channelTitle</th>\n",
       "      <th>categoryId</th>\n",
       "      <th>trending_date</th>\n",
       "      <th>tags</th>\n",
       "      <th>view_count</th>\n",
       "      <th>likes</th>\n",
       "      <th>dislikes</th>\n",
       "      <th>comment_count</th>\n",
       "      <th>thumbnail_link</th>\n",
       "      <th>comments_disabled</th>\n",
       "      <th>ratings_disabled</th>\n",
       "      <th>description</th>\n",
       "      <th>id</th>\n",
       "      <th>duration_seconds</th>\n",
       "      <th>has_thumbnail</th>\n",
       "      <th>target</th>\n",
       "    </tr>\n",
       "  </thead>\n",
       "  <tbody>\n",
       "    <tr>\n",
       "      <th>0</th>\n",
       "      <td>3C66w5Z0ixs</td>\n",
       "      <td>I ASKED HER TO BE MY GIRLFRIEND...</td>\n",
       "      <td>2020-08-11 19:20:14+00:00</td>\n",
       "      <td>UCvtRTOMP2TqYqu51xNrqAzg</td>\n",
       "      <td>Brawadis</td>\n",
       "      <td>22</td>\n",
       "      <td>2020-08-12</td>\n",
       "      <td>brawadis|prank|basketball|skits|ghost|funny vi...</td>\n",
       "      <td>1514614</td>\n",
       "      <td>156908</td>\n",
       "      <td>5855</td>\n",
       "      <td>35313</td>\n",
       "      <td>https://i.ytimg.com/vi/3C66w5Z0ixs/default.jpg</td>\n",
       "      <td>False</td>\n",
       "      <td>False</td>\n",
       "      <td>SUBSCRIBE to BRAWADIS ▶ http://bit.ly/Subscrib...</td>\n",
       "      <td>3C66w5Z0ixs_2020-08-12</td>\n",
       "      <td>NaN</td>\n",
       "      <td>True</td>\n",
       "      <td>0.103596</td>\n",
       "    </tr>\n",
       "  </tbody>\n",
       "</table>\n",
       "</div>"
      ],
      "text/plain": [
       "      video_id                               title               publishedAt  \\\n",
       "0  3C66w5Z0ixs  I ASKED HER TO BE MY GIRLFRIEND... 2020-08-11 19:20:14+00:00   \n",
       "\n",
       "                  channelId channelTitle  categoryId trending_date  \\\n",
       "0  UCvtRTOMP2TqYqu51xNrqAzg     Brawadis          22    2020-08-12   \n",
       "\n",
       "                                                tags  view_count   likes  \\\n",
       "0  brawadis|prank|basketball|skits|ghost|funny vi...     1514614  156908   \n",
       "\n",
       "   dislikes  comment_count                                  thumbnail_link  \\\n",
       "0      5855          35313  https://i.ytimg.com/vi/3C66w5Z0ixs/default.jpg   \n",
       "\n",
       "   comments_disabled  ratings_disabled  \\\n",
       "0              False             False   \n",
       "\n",
       "                                         description                      id  \\\n",
       "0  SUBSCRIBE to BRAWADIS ▶ http://bit.ly/Subscrib...  3C66w5Z0ixs_2020-08-12   \n",
       "\n",
       "   duration_seconds  has_thumbnail    target  \n",
       "0               NaN           True  0.103596  "
      ]
     },
     "execution_count": 8,
     "metadata": {},
     "output_type": "execute_result"
    }
   ],
   "source": [
    "train_df.head(1)"
   ]
  },
  {
   "cell_type": "code",
   "execution_count": 9,
   "metadata": {},
   "outputs": [
    {
     "data": {
      "text/plain": [
       "video_id                                                   M9Pmf9AB4Mo\n",
       "title                Apex Legends | Stories from the Outlands – “Th...\n",
       "publishedAt                                  2020-08-11 17:00:10+00:00\n",
       "channelId                                     UC0ZV6M2THA81QT9hrVWJG3A\n",
       "channelTitle                                              Apex Legends\n",
       "categoryId                                                          20\n",
       "trending_date                                               2020-08-12\n",
       "tags                 Apex Legends|Apex Legends characters|new Apex ...\n",
       "view_count                                                     2381688\n",
       "likes                                                           146739\n",
       "dislikes                                                          2794\n",
       "comment_count                                                    16549\n",
       "thumbnail_link          https://i.ytimg.com/vi/M9Pmf9AB4Mo/default.jpg\n",
       "comments_disabled                                                False\n",
       "ratings_disabled                                                 False\n",
       "description          While running her own modding shop, Ramya Pare...\n",
       "id                                              M9Pmf9AB4Mo_2020-08-12\n",
       "duration_seconds                                                   NaN\n",
       "has_thumbnail                                                     True\n",
       "target                                                        0.061611\n",
       "Name: 1, dtype: object"
      ]
     },
     "execution_count": 9,
     "metadata": {},
     "output_type": "execute_result"
    }
   ],
   "source": [
    "train_df.iloc[1]"
   ]
  },
  {
   "cell_type": "code",
   "execution_count": 10,
   "metadata": {},
   "outputs": [
    {
     "data": {
      "text/html": [
       "<div>\n",
       "<style scoped>\n",
       "    .dataframe tbody tr th:only-of-type {\n",
       "        vertical-align: middle;\n",
       "    }\n",
       "\n",
       "    .dataframe tbody tr th {\n",
       "        vertical-align: top;\n",
       "    }\n",
       "\n",
       "    .dataframe thead th {\n",
       "        text-align: right;\n",
       "    }\n",
       "</style>\n",
       "<table border=\"1\" class=\"dataframe\">\n",
       "  <thead>\n",
       "    <tr style=\"text-align: right;\">\n",
       "      <th></th>\n",
       "      <th>video_id</th>\n",
       "      <th>title</th>\n",
       "      <th>publishedAt</th>\n",
       "      <th>channelId</th>\n",
       "      <th>channelTitle</th>\n",
       "      <th>categoryId</th>\n",
       "      <th>trending_date</th>\n",
       "      <th>tags</th>\n",
       "      <th>thumbnail_link</th>\n",
       "      <th>comments_disabled</th>\n",
       "      <th>ratings_disabled</th>\n",
       "      <th>description</th>\n",
       "      <th>id</th>\n",
       "      <th>duration_seconds</th>\n",
       "      <th>has_thumbnail</th>\n",
       "      <th>isTest</th>\n",
       "    </tr>\n",
       "  </thead>\n",
       "  <tbody>\n",
       "    <tr>\n",
       "      <th>0</th>\n",
       "      <td>_wNsZEqpKUA</td>\n",
       "      <td>Billie Eilish: Same Interview, The Fifth Year ...</td>\n",
       "      <td>2021-11-30 17:00:10+00:00</td>\n",
       "      <td>UCIsbLox_y9dCIMLd8tdC6qg</td>\n",
       "      <td>Vanity Fair</td>\n",
       "      <td>24</td>\n",
       "      <td>2021-12-01</td>\n",
       "      <td>billie|billie eilish|billie eilish 2021|billie...</td>\n",
       "      <td>https://i.ytimg.com/vi/_wNsZEqpKUA/default.jpg</td>\n",
       "      <td>False</td>\n",
       "      <td>False</td>\n",
       "      <td>I'm so much more open to stuff now. On the ver...</td>\n",
       "      <td>_wNsZEqpKUA_2021-12-01</td>\n",
       "      <td>1335.0</td>\n",
       "      <td>True</td>\n",
       "      <td>True</td>\n",
       "    </tr>\n",
       "  </tbody>\n",
       "</table>\n",
       "</div>"
      ],
      "text/plain": [
       "      video_id                                              title  \\\n",
       "0  _wNsZEqpKUA  Billie Eilish: Same Interview, The Fifth Year ...   \n",
       "\n",
       "                publishedAt                 channelId channelTitle  \\\n",
       "0 2021-11-30 17:00:10+00:00  UCIsbLox_y9dCIMLd8tdC6qg  Vanity Fair   \n",
       "\n",
       "   categoryId trending_date  \\\n",
       "0          24    2021-12-01   \n",
       "\n",
       "                                                tags  \\\n",
       "0  billie|billie eilish|billie eilish 2021|billie...   \n",
       "\n",
       "                                   thumbnail_link  comments_disabled  \\\n",
       "0  https://i.ytimg.com/vi/_wNsZEqpKUA/default.jpg              False   \n",
       "\n",
       "   ratings_disabled                                        description  \\\n",
       "0             False  I'm so much more open to stuff now. On the ver...   \n",
       "\n",
       "                       id  duration_seconds  has_thumbnail  isTest  \n",
       "0  _wNsZEqpKUA_2021-12-01            1335.0           True    True  "
      ]
     },
     "execution_count": 10,
     "metadata": {},
     "output_type": "execute_result"
    }
   ],
   "source": [
    "test_df.head(1)"
   ]
  },
  {
   "cell_type": "code",
   "execution_count": 11,
   "metadata": {},
   "outputs": [
    {
     "data": {
      "text/plain": [
       "{'comment_count', 'dislikes', 'likes', 'target', 'view_count'}"
      ]
     },
     "execution_count": 11,
     "metadata": {},
     "output_type": "execute_result"
    }
   ],
   "source": [
    "#different columns between train and test dataset\n",
    "set(train_df.columns) - set(test_df.columns)"
   ]
  },
  {
   "cell_type": "markdown",
   "metadata": {},
   "source": [
    "Check if any unconvenient dtypes exists"
   ]
  },
  {
   "cell_type": "code",
   "execution_count": 12,
   "metadata": {},
   "outputs": [
    {
     "name": "stdout",
     "output_type": "stream",
     "text": [
      "<class 'pandas.core.frame.DataFrame'>\n",
      "RangeIndex: 92275 entries, 0 to 92274\n",
      "Data columns (total 20 columns):\n",
      " #   Column             Non-Null Count  Dtype              \n",
      "---  ------             --------------  -----              \n",
      " 0   video_id           92275 non-null  object             \n",
      " 1   title              92275 non-null  object             \n",
      " 2   publishedAt        92275 non-null  datetime64[ns, UTC]\n",
      " 3   channelId          92275 non-null  object             \n",
      " 4   channelTitle       92275 non-null  object             \n",
      " 5   categoryId         92275 non-null  int64              \n",
      " 6   trending_date      92275 non-null  object             \n",
      " 7   tags               92275 non-null  object             \n",
      " 8   view_count         92275 non-null  int64              \n",
      " 9   likes              92275 non-null  int64              \n",
      " 10  dislikes           92275 non-null  int64              \n",
      " 11  comment_count      92275 non-null  int64              \n",
      " 12  thumbnail_link     92275 non-null  object             \n",
      " 13  comments_disabled  92275 non-null  bool               \n",
      " 14  ratings_disabled   92275 non-null  bool               \n",
      " 15  description        90799 non-null  object             \n",
      " 16  id                 92275 non-null  object             \n",
      " 17  duration_seconds   90099 non-null  float64            \n",
      " 18  has_thumbnail      92275 non-null  bool               \n",
      " 19  target             92275 non-null  float64            \n",
      "dtypes: bool(3), datetime64[ns, UTC](1), float64(2), int64(5), object(9)\n",
      "memory usage: 12.2+ MB\n"
     ]
    }
   ],
   "source": [
    "train_df.info()"
   ]
  },
  {
   "cell_type": "markdown",
   "metadata": {},
   "source": [
    "trending_date is obejct,convert it to datetime dtype format"
   ]
  },
  {
   "cell_type": "code",
   "execution_count": 13,
   "metadata": {},
   "outputs": [
    {
     "data": {
      "text/html": [
       "<div>\n",
       "<style scoped>\n",
       "    .dataframe tbody tr th:only-of-type {\n",
       "        vertical-align: middle;\n",
       "    }\n",
       "\n",
       "    .dataframe tbody tr th {\n",
       "        vertical-align: top;\n",
       "    }\n",
       "\n",
       "    .dataframe thead th {\n",
       "        text-align: right;\n",
       "    }\n",
       "</style>\n",
       "<table border=\"1\" class=\"dataframe\">\n",
       "  <thead>\n",
       "    <tr style=\"text-align: right;\">\n",
       "      <th></th>\n",
       "      <th>video_id</th>\n",
       "      <th>title</th>\n",
       "      <th>publishedAt</th>\n",
       "      <th>channelId</th>\n",
       "      <th>channelTitle</th>\n",
       "      <th>categoryId</th>\n",
       "      <th>trending_date</th>\n",
       "      <th>tags</th>\n",
       "      <th>view_count</th>\n",
       "      <th>likes</th>\n",
       "      <th>dislikes</th>\n",
       "      <th>comment_count</th>\n",
       "      <th>thumbnail_link</th>\n",
       "      <th>comments_disabled</th>\n",
       "      <th>ratings_disabled</th>\n",
       "      <th>description</th>\n",
       "      <th>id</th>\n",
       "      <th>duration_seconds</th>\n",
       "      <th>has_thumbnail</th>\n",
       "      <th>target</th>\n",
       "    </tr>\n",
       "  </thead>\n",
       "  <tbody>\n",
       "    <tr>\n",
       "      <th>0</th>\n",
       "      <td>3C66w5Z0ixs</td>\n",
       "      <td>I ASKED HER TO BE MY GIRLFRIEND...</td>\n",
       "      <td>2020-08-11 19:20:14+00:00</td>\n",
       "      <td>UCvtRTOMP2TqYqu51xNrqAzg</td>\n",
       "      <td>Brawadis</td>\n",
       "      <td>22</td>\n",
       "      <td>2020-08-12</td>\n",
       "      <td>brawadis|prank|basketball|skits|ghost|funny vi...</td>\n",
       "      <td>1514614</td>\n",
       "      <td>156908</td>\n",
       "      <td>5855</td>\n",
       "      <td>35313</td>\n",
       "      <td>https://i.ytimg.com/vi/3C66w5Z0ixs/default.jpg</td>\n",
       "      <td>False</td>\n",
       "      <td>False</td>\n",
       "      <td>SUBSCRIBE to BRAWADIS ▶ http://bit.ly/Subscrib...</td>\n",
       "      <td>3C66w5Z0ixs_2020-08-12</td>\n",
       "      <td>NaN</td>\n",
       "      <td>True</td>\n",
       "      <td>0.103596</td>\n",
       "    </tr>\n",
       "  </tbody>\n",
       "</table>\n",
       "</div>"
      ],
      "text/plain": [
       "      video_id                               title               publishedAt  \\\n",
       "0  3C66w5Z0ixs  I ASKED HER TO BE MY GIRLFRIEND... 2020-08-11 19:20:14+00:00   \n",
       "\n",
       "                  channelId channelTitle  categoryId trending_date  \\\n",
       "0  UCvtRTOMP2TqYqu51xNrqAzg     Brawadis          22    2020-08-12   \n",
       "\n",
       "                                                tags  view_count   likes  \\\n",
       "0  brawadis|prank|basketball|skits|ghost|funny vi...     1514614  156908   \n",
       "\n",
       "   dislikes  comment_count                                  thumbnail_link  \\\n",
       "0      5855          35313  https://i.ytimg.com/vi/3C66w5Z0ixs/default.jpg   \n",
       "\n",
       "   comments_disabled  ratings_disabled  \\\n",
       "0              False             False   \n",
       "\n",
       "                                         description                      id  \\\n",
       "0  SUBSCRIBE to BRAWADIS ▶ http://bit.ly/Subscrib...  3C66w5Z0ixs_2020-08-12   \n",
       "\n",
       "   duration_seconds  has_thumbnail    target  \n",
       "0               NaN           True  0.103596  "
      ]
     },
     "execution_count": 13,
     "metadata": {},
     "output_type": "execute_result"
    }
   ],
   "source": [
    "train_df.trending_date = pd.to_datetime(train_df.trending_date)\n",
    "train_df.head(1)"
   ]
  },
  {
   "cell_type": "code",
   "execution_count": 14,
   "metadata": {},
   "outputs": [
    {
     "data": {
      "text/html": [
       "<div>\n",
       "<style scoped>\n",
       "    .dataframe tbody tr th:only-of-type {\n",
       "        vertical-align: middle;\n",
       "    }\n",
       "\n",
       "    .dataframe tbody tr th {\n",
       "        vertical-align: top;\n",
       "    }\n",
       "\n",
       "    .dataframe thead th {\n",
       "        text-align: right;\n",
       "    }\n",
       "</style>\n",
       "<table border=\"1\" class=\"dataframe\">\n",
       "  <thead>\n",
       "    <tr style=\"text-align: right;\">\n",
       "      <th></th>\n",
       "      <th>video_id</th>\n",
       "      <th>title</th>\n",
       "      <th>publishedAt</th>\n",
       "      <th>channelId</th>\n",
       "      <th>channelTitle</th>\n",
       "      <th>categoryId</th>\n",
       "      <th>trending_date</th>\n",
       "      <th>tags</th>\n",
       "      <th>thumbnail_link</th>\n",
       "      <th>comments_disabled</th>\n",
       "      <th>ratings_disabled</th>\n",
       "      <th>description</th>\n",
       "      <th>id</th>\n",
       "      <th>duration_seconds</th>\n",
       "      <th>has_thumbnail</th>\n",
       "      <th>isTest</th>\n",
       "    </tr>\n",
       "  </thead>\n",
       "  <tbody>\n",
       "    <tr>\n",
       "      <th>0</th>\n",
       "      <td>_wNsZEqpKUA</td>\n",
       "      <td>Billie Eilish: Same Interview, The Fifth Year ...</td>\n",
       "      <td>2021-11-30 17:00:10+00:00</td>\n",
       "      <td>UCIsbLox_y9dCIMLd8tdC6qg</td>\n",
       "      <td>Vanity Fair</td>\n",
       "      <td>24</td>\n",
       "      <td>2021-12-01</td>\n",
       "      <td>billie|billie eilish|billie eilish 2021|billie...</td>\n",
       "      <td>https://i.ytimg.com/vi/_wNsZEqpKUA/default.jpg</td>\n",
       "      <td>False</td>\n",
       "      <td>False</td>\n",
       "      <td>I'm so much more open to stuff now. On the ver...</td>\n",
       "      <td>_wNsZEqpKUA_2021-12-01</td>\n",
       "      <td>1335.0</td>\n",
       "      <td>True</td>\n",
       "      <td>True</td>\n",
       "    </tr>\n",
       "  </tbody>\n",
       "</table>\n",
       "</div>"
      ],
      "text/plain": [
       "      video_id                                              title  \\\n",
       "0  _wNsZEqpKUA  Billie Eilish: Same Interview, The Fifth Year ...   \n",
       "\n",
       "                publishedAt                 channelId channelTitle  \\\n",
       "0 2021-11-30 17:00:10+00:00  UCIsbLox_y9dCIMLd8tdC6qg  Vanity Fair   \n",
       "\n",
       "   categoryId trending_date  \\\n",
       "0          24    2021-12-01   \n",
       "\n",
       "                                                tags  \\\n",
       "0  billie|billie eilish|billie eilish 2021|billie...   \n",
       "\n",
       "                                   thumbnail_link  comments_disabled  \\\n",
       "0  https://i.ytimg.com/vi/_wNsZEqpKUA/default.jpg              False   \n",
       "\n",
       "   ratings_disabled                                        description  \\\n",
       "0             False  I'm so much more open to stuff now. On the ver...   \n",
       "\n",
       "                       id  duration_seconds  has_thumbnail  isTest  \n",
       "0  _wNsZEqpKUA_2021-12-01            1335.0           True    True  "
      ]
     },
     "execution_count": 14,
     "metadata": {},
     "output_type": "execute_result"
    }
   ],
   "source": [
    "test_df.trending_date = pd.to_datetime(test_df.trending_date)\n",
    "test_df.head(1)"
   ]
  },
  {
   "cell_type": "markdown",
   "metadata": {},
   "source": [
    "check if any nan values exists for all columns"
   ]
  },
  {
   "cell_type": "code",
   "execution_count": 15,
   "metadata": {},
   "outputs": [
    {
     "data": {
      "text/plain": [
       "video_id                0\n",
       "title                   0\n",
       "publishedAt             0\n",
       "channelId               0\n",
       "channelTitle            0\n",
       "categoryId              0\n",
       "trending_date           0\n",
       "tags                    0\n",
       "view_count              0\n",
       "likes                   0\n",
       "dislikes                0\n",
       "comment_count           0\n",
       "thumbnail_link          0\n",
       "comments_disabled       0\n",
       "ratings_disabled        0\n",
       "description          1476\n",
       "id                      0\n",
       "duration_seconds     2176\n",
       "has_thumbnail           0\n",
       "target                  0\n",
       "dtype: int64"
      ]
     },
     "execution_count": 15,
     "metadata": {},
     "output_type": "execute_result"
    }
   ],
   "source": [
    "train_df.isna().sum()"
   ]
  },
  {
   "cell_type": "code",
   "execution_count": 16,
   "metadata": {},
   "outputs": [
    {
     "data": {
      "text/plain": [
       "0.023581685180167976"
      ]
     },
     "execution_count": 16,
     "metadata": {},
     "output_type": "execute_result"
    }
   ],
   "source": [
    "train_df.isna().sum()['duration_seconds'] / len(train_df)"
   ]
  },
  {
   "cell_type": "code",
   "execution_count": 17,
   "metadata": {},
   "outputs": [],
   "source": [
    "train_df.dropna(subset='duration_seconds',inplace=True)"
   ]
  },
  {
   "cell_type": "code",
   "execution_count": 18,
   "metadata": {},
   "outputs": [
    {
     "data": {
      "text/plain": [
       "0.0034482758620689655"
      ]
     },
     "execution_count": 18,
     "metadata": {},
     "output_type": "execute_result"
    }
   ],
   "source": [
    "test_df.isna().sum()['duration_seconds'] / len(test_df)"
   ]
  },
  {
   "cell_type": "code",
   "execution_count": 19,
   "metadata": {},
   "outputs": [],
   "source": [
    "test_df.dropna(subset='duration_seconds',inplace=True)"
   ]
  },
  {
   "cell_type": "markdown",
   "metadata": {},
   "source": [
    "Check any category exists in test data but not exists in train data, it is counted as outier data"
   ]
  },
  {
   "cell_type": "code",
   "execution_count": 20,
   "metadata": {},
   "outputs": [
    {
     "data": {
      "text/plain": [
       "set()"
      ]
     },
     "execution_count": 20,
     "metadata": {},
     "output_type": "execute_result"
    }
   ],
   "source": [
    "set(test_df.categoryId.unique()) - set(train_df.categoryId.unique())"
   ]
  },
  {
   "cell_type": "markdown",
   "metadata": {},
   "source": [
    "If ratings are disabled, it is not possible to predict target(like_count/total_review).So these must be removed."
   ]
  },
  {
   "cell_type": "code",
   "execution_count": 21,
   "metadata": {},
   "outputs": [
    {
     "data": {
      "text/plain": [
       "431"
      ]
     },
     "metadata": {},
     "output_type": "display_data"
    }
   ],
   "source": [
    "display(len(train_df[train_df.ratings_disabled == True]))\n",
    "train_df = train_df[train_df.ratings_disabled == False]"
   ]
  },
  {
   "cell_type": "code",
   "execution_count": 22,
   "metadata": {},
   "outputs": [
    {
     "data": {
      "text/plain": [
       "215"
      ]
     },
     "metadata": {},
     "output_type": "display_data"
    }
   ],
   "source": [
    "display(len(test_df[test_df.ratings_disabled == True]))\n",
    "test_df = test_df[test_df.ratings_disabled == False]"
   ]
  },
  {
   "cell_type": "code",
   "execution_count": 23,
   "metadata": {},
   "outputs": [
    {
     "data": {
      "text/plain": [
       "(5565, 89668)"
      ]
     },
     "execution_count": 23,
     "metadata": {},
     "output_type": "execute_result"
    }
   ],
   "source": [
    "len(test_df) , len(train_df)"
   ]
  },
  {
   "cell_type": "markdown",
   "metadata": {},
   "source": [
    "Encoding Part\n",
    "Some boolean columns are convert to numeric type and some wide range columns are converted to 0 to n range."
   ]
  },
  {
   "cell_type": "code",
   "execution_count": 24,
   "metadata": {},
   "outputs": [],
   "source": [
    "from sklearn import preprocessing \n",
    "encoder = preprocessing.LabelEncoder()\n",
    "\n",
    "train_df['categoryId'] = encoder.fit_transform(train_df.categoryId)\n",
    "test_df['categoryId'] = encoder.transform(test_df.categoryId)"
   ]
  },
  {
   "cell_type": "code",
   "execution_count": 25,
   "metadata": {},
   "outputs": [],
   "source": [
    "encoder_boolean = preprocessing.LabelEncoder()\n",
    "\n",
    "train_df['comments_disabled'] = encoder_boolean.fit_transform(train_df.comments_disabled)\n",
    "test_df['comments_disabled'] = encoder_boolean.transform(test_df.comments_disabled)"
   ]
  },
  {
   "cell_type": "code",
   "execution_count": 26,
   "metadata": {},
   "outputs": [],
   "source": [
    "encoder_boolean1 = preprocessing.LabelEncoder()\n",
    "\n",
    "train_df['has_thumbnail'] = encoder_boolean1.fit_transform(train_df.has_thumbnail)\n",
    "test_df['has_thumbnail'] = encoder_boolean1.transform(test_df.has_thumbnail)"
   ]
  },
  {
   "cell_type": "markdown",
   "metadata": {},
   "source": [
    "Feature Engineering"
   ]
  },
  {
   "cell_type": "markdown",
   "metadata": {},
   "source": [
    "1- Time Features"
   ]
  },
  {
   "cell_type": "code",
   "execution_count": 27,
   "metadata": {},
   "outputs": [
    {
     "data": {
      "text/plain": [
       "40       1\n",
       "41       1\n",
       "42       1\n",
       "43       2\n",
       "44       1\n",
       "        ..\n",
       "92270    1\n",
       "92271    2\n",
       "92272    1\n",
       "92273    6\n",
       "92274    2\n",
       "Name: publishedAt, Length: 89668, dtype: int64"
      ]
     },
     "execution_count": 27,
     "metadata": {},
     "output_type": "execute_result"
    }
   ],
   "source": [
    "train_df.publishedAt.dt.dayofweek"
   ]
  },
  {
   "cell_type": "code",
   "execution_count": 28,
   "metadata": {},
   "outputs": [],
   "source": [
    "train_df['publish_day'] = train_df.publishedAt.dt.dayofweek\n",
    "train_df['publish_hour'] = train_df.publishedAt.dt.hour\n",
    "train_df['current_day'] = train_df.trending_date.dt.dayofweek"
   ]
  },
  {
   "cell_type": "code",
   "execution_count": 29,
   "metadata": {},
   "outputs": [],
   "source": [
    "test_df['publish_day'] = test_df.publishedAt.dt.dayofweek\n",
    "test_df['publish_hour'] = test_df.publishedAt.dt.hour\n",
    "test_df['current_day'] = test_df.trending_date.dt.dayofweek"
   ]
  },
  {
   "cell_type": "code",
   "execution_count": 30,
   "metadata": {},
   "outputs": [
    {
     "data": {
      "text/html": [
       "<div>\n",
       "<style scoped>\n",
       "    .dataframe tbody tr th:only-of-type {\n",
       "        vertical-align: middle;\n",
       "    }\n",
       "\n",
       "    .dataframe tbody tr th {\n",
       "        vertical-align: top;\n",
       "    }\n",
       "\n",
       "    .dataframe thead th {\n",
       "        text-align: right;\n",
       "    }\n",
       "</style>\n",
       "<table border=\"1\" class=\"dataframe\">\n",
       "  <thead>\n",
       "    <tr style=\"text-align: right;\">\n",
       "      <th></th>\n",
       "      <th>video_id</th>\n",
       "      <th>title</th>\n",
       "      <th>publishedAt</th>\n",
       "      <th>channelId</th>\n",
       "      <th>channelTitle</th>\n",
       "      <th>categoryId</th>\n",
       "      <th>trending_date</th>\n",
       "      <th>tags</th>\n",
       "      <th>view_count</th>\n",
       "      <th>likes</th>\n",
       "      <th>...</th>\n",
       "      <th>comments_disabled</th>\n",
       "      <th>ratings_disabled</th>\n",
       "      <th>description</th>\n",
       "      <th>id</th>\n",
       "      <th>duration_seconds</th>\n",
       "      <th>has_thumbnail</th>\n",
       "      <th>target</th>\n",
       "      <th>publish_day</th>\n",
       "      <th>publish_hour</th>\n",
       "      <th>current_day</th>\n",
       "    </tr>\n",
       "  </thead>\n",
       "  <tbody>\n",
       "    <tr>\n",
       "      <th>40</th>\n",
       "      <td>n_8hxS_7Vis</td>\n",
       "      <td>Shannon reacts to Kyle Kuzma's game-winning sh...</td>\n",
       "      <td>2020-08-11 16:21:47+00:00</td>\n",
       "      <td>UCLXzq85ijg2LwJWFrz4pkmw</td>\n",
       "      <td>Skip and Shannon: UNDISPUTED</td>\n",
       "      <td>4</td>\n",
       "      <td>2020-08-12</td>\n",
       "      <td>fox|fox sports|fs1|fox sports 1|undisputed|ski...</td>\n",
       "      <td>540613</td>\n",
       "      <td>7155</td>\n",
       "      <td>...</td>\n",
       "      <td>0</td>\n",
       "      <td>False</td>\n",
       "      <td>LeBron and the Lakers finally snapped their 3-...</td>\n",
       "      <td>n_8hxS_7Vis_2020-08-12</td>\n",
       "      <td>1112.0</td>\n",
       "      <td>1</td>\n",
       "      <td>0.013235</td>\n",
       "      <td>1</td>\n",
       "      <td>16</td>\n",
       "      <td>2</td>\n",
       "    </tr>\n",
       "  </tbody>\n",
       "</table>\n",
       "<p>1 rows × 23 columns</p>\n",
       "</div>"
      ],
      "text/plain": [
       "       video_id                                              title  \\\n",
       "40  n_8hxS_7Vis  Shannon reacts to Kyle Kuzma's game-winning sh...   \n",
       "\n",
       "                 publishedAt                 channelId  \\\n",
       "40 2020-08-11 16:21:47+00:00  UCLXzq85ijg2LwJWFrz4pkmw   \n",
       "\n",
       "                    channelTitle  categoryId trending_date  \\\n",
       "40  Skip and Shannon: UNDISPUTED           4    2020-08-12   \n",
       "\n",
       "                                                 tags  view_count  likes  ...  \\\n",
       "40  fox|fox sports|fs1|fox sports 1|undisputed|ski...      540613   7155  ...   \n",
       "\n",
       "    comments_disabled  ratings_disabled  \\\n",
       "40                  0             False   \n",
       "\n",
       "                                          description                      id  \\\n",
       "40  LeBron and the Lakers finally snapped their 3-...  n_8hxS_7Vis_2020-08-12   \n",
       "\n",
       "    duration_seconds has_thumbnail    target  publish_day  publish_hour  \\\n",
       "40            1112.0             1  0.013235            1            16   \n",
       "\n",
       "    current_day  \n",
       "40            2  \n",
       "\n",
       "[1 rows x 23 columns]"
      ]
     },
     "execution_count": 30,
     "metadata": {},
     "output_type": "execute_result"
    }
   ],
   "source": [
    "train_df.head(1)"
   ]
  },
  {
   "cell_type": "code",
   "execution_count": 31,
   "metadata": {},
   "outputs": [
    {
     "data": {
      "text/html": [
       "<div>\n",
       "<style scoped>\n",
       "    .dataframe tbody tr th:only-of-type {\n",
       "        vertical-align: middle;\n",
       "    }\n",
       "\n",
       "    .dataframe tbody tr th {\n",
       "        vertical-align: top;\n",
       "    }\n",
       "\n",
       "    .dataframe thead th {\n",
       "        text-align: right;\n",
       "    }\n",
       "</style>\n",
       "<table border=\"1\" class=\"dataframe\">\n",
       "  <thead>\n",
       "    <tr style=\"text-align: right;\">\n",
       "      <th></th>\n",
       "      <th>video_id</th>\n",
       "      <th>title</th>\n",
       "      <th>publishedAt</th>\n",
       "      <th>channelId</th>\n",
       "      <th>channelTitle</th>\n",
       "      <th>categoryId</th>\n",
       "      <th>trending_date</th>\n",
       "      <th>tags</th>\n",
       "      <th>thumbnail_link</th>\n",
       "      <th>comments_disabled</th>\n",
       "      <th>ratings_disabled</th>\n",
       "      <th>description</th>\n",
       "      <th>id</th>\n",
       "      <th>duration_seconds</th>\n",
       "      <th>has_thumbnail</th>\n",
       "      <th>isTest</th>\n",
       "      <th>publish_day</th>\n",
       "      <th>publish_hour</th>\n",
       "      <th>current_day</th>\n",
       "    </tr>\n",
       "  </thead>\n",
       "  <tbody>\n",
       "    <tr>\n",
       "      <th>0</th>\n",
       "      <td>_wNsZEqpKUA</td>\n",
       "      <td>Billie Eilish: Same Interview, The Fifth Year ...</td>\n",
       "      <td>2021-11-30 17:00:10+00:00</td>\n",
       "      <td>UCIsbLox_y9dCIMLd8tdC6qg</td>\n",
       "      <td>Vanity Fair</td>\n",
       "      <td>9</td>\n",
       "      <td>2021-12-01</td>\n",
       "      <td>billie|billie eilish|billie eilish 2021|billie...</td>\n",
       "      <td>https://i.ytimg.com/vi/_wNsZEqpKUA/default.jpg</td>\n",
       "      <td>0</td>\n",
       "      <td>False</td>\n",
       "      <td>I'm so much more open to stuff now. On the ver...</td>\n",
       "      <td>_wNsZEqpKUA_2021-12-01</td>\n",
       "      <td>1335.0</td>\n",
       "      <td>1</td>\n",
       "      <td>True</td>\n",
       "      <td>1</td>\n",
       "      <td>17</td>\n",
       "      <td>2</td>\n",
       "    </tr>\n",
       "  </tbody>\n",
       "</table>\n",
       "</div>"
      ],
      "text/plain": [
       "      video_id                                              title  \\\n",
       "0  _wNsZEqpKUA  Billie Eilish: Same Interview, The Fifth Year ...   \n",
       "\n",
       "                publishedAt                 channelId channelTitle  \\\n",
       "0 2021-11-30 17:00:10+00:00  UCIsbLox_y9dCIMLd8tdC6qg  Vanity Fair   \n",
       "\n",
       "   categoryId trending_date  \\\n",
       "0           9    2021-12-01   \n",
       "\n",
       "                                                tags  \\\n",
       "0  billie|billie eilish|billie eilish 2021|billie...   \n",
       "\n",
       "                                   thumbnail_link  comments_disabled  \\\n",
       "0  https://i.ytimg.com/vi/_wNsZEqpKUA/default.jpg                  0   \n",
       "\n",
       "   ratings_disabled                                        description  \\\n",
       "0             False  I'm so much more open to stuff now. On the ver...   \n",
       "\n",
       "                       id  duration_seconds  has_thumbnail  isTest  \\\n",
       "0  _wNsZEqpKUA_2021-12-01            1335.0              1    True   \n",
       "\n",
       "   publish_day  publish_hour  current_day  \n",
       "0            1            17            2  "
      ]
     },
     "execution_count": 31,
     "metadata": {},
     "output_type": "execute_result"
    }
   ],
   "source": [
    "test_df.head(1)"
   ]
  },
  {
   "cell_type": "markdown",
   "metadata": {},
   "source": [
    "2-Total trending days"
   ]
  },
  {
   "cell_type": "code",
   "execution_count": 32,
   "metadata": {},
   "outputs": [],
   "source": [
    "train_df['total_trend_days'] = (train_df.trending_date.dt.date - train_df.publishedAt.dt.date).dt.days\n",
    "test_df['total_trend_days'] = (test_df.trending_date.dt.date - test_df.publishedAt.dt.date).dt.days"
   ]
  },
  {
   "cell_type": "markdown",
   "metadata": {},
   "source": [
    "3-target-based Features:<br>\n",
    "- channel_average_targets<br>\n",
    "- category_average_targets"
   ]
  },
  {
   "cell_type": "code",
   "execution_count": 33,
   "metadata": {},
   "outputs": [],
   "source": [
    "train_df['channel_average_target'] = train_df.groupby(['channelId'])['target'].transform('mean')\n",
    "train_df['categoryId_average_target'] = train_df.groupby(['categoryId'])['target'].transform('mean')"
   ]
  },
  {
   "cell_type": "code",
   "execution_count": 34,
   "metadata": {},
   "outputs": [],
   "source": [
    "test_df = test_df.merge(train_df.loc[:,['categoryId','categoryId_average_target']].drop_duplicates(subset='categoryId'),on='categoryId',how='left')"
   ]
  },
  {
   "cell_type": "code",
   "execution_count": 35,
   "metadata": {},
   "outputs": [],
   "source": [
    "test_df = test_df.merge(train_df.loc[:,['channelId','channel_average_target']].drop_duplicates(subset='channelId'),on='channelId',how='left')"
   ]
  },
  {
   "cell_type": "code",
   "execution_count": 41,
   "metadata": {},
   "outputs": [],
   "source": [
    "test_df.channel_average_target.fillna(test_df.categoryId_average_target, inplace=True)"
   ]
  },
  {
   "cell_type": "code",
   "execution_count": 43,
   "metadata": {},
   "outputs": [
    {
     "data": {
      "text/plain": [
       "video_id                       0\n",
       "title                          0\n",
       "publishedAt                    0\n",
       "channelId                      0\n",
       "channelTitle                   0\n",
       "categoryId                     0\n",
       "trending_date                  0\n",
       "tags                           0\n",
       "thumbnail_link                 0\n",
       "comments_disabled              0\n",
       "ratings_disabled               0\n",
       "description                  385\n",
       "id                             0\n",
       "duration_seconds               0\n",
       "has_thumbnail                  0\n",
       "isTest                         0\n",
       "publish_day                    0\n",
       "publish_hour                   0\n",
       "current_day                    0\n",
       "total_trend_days               0\n",
       "categoryId_average_target      0\n",
       "channel_average_target         0\n",
       "dtype: int64"
      ]
     },
     "execution_count": 43,
     "metadata": {},
     "output_type": "execute_result"
    }
   ],
   "source": [
    "test_df.isna().sum()"
   ]
  },
  {
   "cell_type": "markdown",
   "metadata": {},
   "source": [
    "4-popular_tag_count"
   ]
  },
  {
   "cell_type": "markdown",
   "metadata": {},
   "source": [
    "Popular tags"
   ]
  },
  {
   "cell_type": "code",
   "execution_count": 48,
   "metadata": {},
   "outputs": [
    {
     "data": {
      "text/plain": [
       "[None]                         13062\n",
       "funny                           5820\n",
       "comedy                          3758\n",
       "minecraft                       3151\n",
       "challenge                       2324\n",
       "                               ...  \n",
       "nile wilson                        1\n",
       "official strongman                 1\n",
       "hathor bjornsson                   1\n",
       "giants live                        1\n",
       "I was in MrBeast Squid Game        1\n",
       "Length: 111818, dtype: int64"
      ]
     },
     "execution_count": 48,
     "metadata": {},
     "output_type": "execute_result"
    }
   ],
   "source": [
    "train_df.tags.str.split('|',expand=True).stack().value_counts()"
   ]
  },
  {
   "cell_type": "code",
   "execution_count": 51,
   "metadata": {},
   "outputs": [
    {
     "data": {
      "text/plain": [
       "Index(['[None]', 'funny', 'comedy', 'minecraft', 'challenge', 'vlog', 'news',\n",
       "       'animation', 'rap', 'music', 'gaming', 'highlights', 'tiktok', 'how to',\n",
       "       'reaction', 'football', 'hip hop', 'family', '2020', 'new',\n",
       "       'family friendly', 'game', 'fortnite', 'video', 'sports', 'Rap', 'fun',\n",
       "       'tik tok', 'NBA', '2021', 'Minecraft', 'Football', 'review', 'soccer',\n",
       "       'music video', 'Records', 'Hip Hop', 'minecraft challenge', 'trailer',\n",
       "       'dream', 'among us', 'diy', 'science', 'gameplay', 'parody',\n",
       "       'interview', 'play', 'nba', 'live', 'tutorial', 'Music', 'reacting',\n",
       "       'Pop', 'espn', 'Basketball', 'marvel', 'boxing', 'cartoon', 'meme',\n",
       "       'NFL', 'highlight', 'laugh', 'mine craft', 'humor', 'BTS',\n",
       "       'minecraft but', 'education', 'Highlights', 'yt:cc=on', 'basketball',\n",
       "       'experiment', 'entertainment', 'shorts', 'nintendo', 'food', 'prank',\n",
       "       'lil durk', 'season', 'hilarious', 'G League', 'viral',\n",
       "       'fortnite battle royale', 'matpat', 'video games', 'Funny', 'youtube',\n",
       "       'react', 'trending', 'sport', 'games', 'the', 'dixie damelio', 'tech',\n",
       "       'American Football', 'minecraft hardcore', 'baby', 'sssniperwolf',\n",
       "       'video game', 'animated', 'sketch'],\n",
       "      dtype='object')"
      ]
     },
     "execution_count": 51,
     "metadata": {},
     "output_type": "execute_result"
    }
   ],
   "source": [
    "top_100_popular_tags = train_df.tags.str.split('|',expand=True).stack().value_counts()[:100].keys()\n",
    "top_100_popular_tags"
   ]
  },
  {
   "cell_type": "code",
   "execution_count": 65,
   "metadata": {},
   "outputs": [
    {
     "data": {
      "text/plain": [
       "4"
      ]
     },
     "execution_count": 65,
     "metadata": {},
     "output_type": "execute_result"
    }
   ],
   "source": [
    "len(set(train_df.tags.iloc[0].split('|')) & set(top_100_popular_tags))"
   ]
  },
  {
   "cell_type": "code",
   "execution_count": 68,
   "metadata": {},
   "outputs": [],
   "source": [
    "def popular_tag_count(x):\n",
    "    count = len(set(x.tags.split('|')) & set(top_100_popular_tags))\n",
    "    return count"
   ]
  },
  {
   "cell_type": "code",
   "execution_count": 69,
   "metadata": {},
   "outputs": [],
   "source": [
    "train_df['popular_tag_count'] = train_df.apply(lambda x: popular_tag_count(x),axis=1)"
   ]
  },
  {
   "cell_type": "code",
   "execution_count": 71,
   "metadata": {},
   "outputs": [],
   "source": [
    "test_df['popular_tag_count'] = test_df.apply(lambda x: popular_tag_count(x),axis=1)"
   ]
  },
  {
   "cell_type": "markdown",
   "metadata": {},
   "source": [
    "Modeling"
   ]
  },
  {
   "cell_type": "code",
   "execution_count": 75,
   "metadata": {},
   "outputs": [
    {
     "data": {
      "text/plain": [
       "Index(['video_id', 'title', 'publishedAt', 'channelId', 'channelTitle',\n",
       "       'categoryId', 'trending_date', 'tags', 'view_count', 'likes',\n",
       "       'dislikes', 'comment_count', 'thumbnail_link', 'comments_disabled',\n",
       "       'ratings_disabled', 'description', 'id', 'duration_seconds',\n",
       "       'has_thumbnail', 'target', 'publish_day', 'publish_hour', 'current_day',\n",
       "       'total_trend_days', 'channel_average_target',\n",
       "       'categoryId_average_target', 'popular_tag_count'],\n",
       "      dtype='object')"
      ]
     },
     "execution_count": 75,
     "metadata": {},
     "output_type": "execute_result"
    }
   ],
   "source": [
    "train_df.columns"
   ]
  },
  {
   "cell_type": "code",
   "execution_count": 82,
   "metadata": {},
   "outputs": [],
   "source": [
    "train_df_filtered = train_df.loc[:,['categoryId','comments_disabled',\n",
    "'duration_seconds','has_thumbnail','publish_day','publish_hour','current_day',\n",
    "'total_trend_days','channel_average_target','categoryId_average_target','popular_tag_count','target']]"
   ]
  },
  {
   "cell_type": "code",
   "execution_count": 83,
   "metadata": {},
   "outputs": [],
   "source": [
    "test_df_filtered = test_df.loc[:,['categoryId','comments_disabled',\n",
    "'duration_seconds','has_thumbnail','publish_day','publish_hour','current_day',\n",
    "'total_trend_days','channel_average_target','categoryId_average_target','popular_tag_count']]"
   ]
  },
  {
   "cell_type": "code",
   "execution_count": 88,
   "metadata": {},
   "outputs": [],
   "source": [
    "#Train and evaluation datas are seperated.\n",
    "from sklearn.model_selection import train_test_split\n",
    "X_train, X_val, y_train, y_val = train_test_split(train_df_filtered.drop(columns=['target']), train_df_filtered.loc[:,['target']], test_size=0.2, random_state=40)"
   ]
  },
  {
   "cell_type": "code",
   "execution_count": 89,
   "metadata": {},
   "outputs": [
    {
     "name": "stderr",
     "output_type": "stream",
     "text": [
      "[flaml.automl: 08-31 02:09:03] {2565} INFO - task = regression\n",
      "[flaml.automl: 08-31 02:09:03] {2567} INFO - Data split method: uniform\n",
      "[flaml.automl: 08-31 02:09:03] {2570} INFO - Evaluation method: cv\n",
      "[flaml.automl: 08-31 02:09:03] {2689} INFO - Minimizing error metric: mae\n",
      "[flaml.automl: 08-31 02:09:03] {2831} INFO - List of ML learners in AutoML Run: ['lgbm', 'xgboost', 'catboost']\n",
      "[flaml.automl: 08-31 02:09:03] {3133} INFO - iteration 0, current learner lgbm\n",
      "[flaml.automl: 08-31 02:09:03] {3266} INFO - Estimated sufficient time budget=2709s. Estimated necessary time budget=5s.\n",
      "[flaml.automl: 08-31 02:09:03] {3313} INFO -  at 0.4s,\testimator lgbm's best error=0.0222,\tbest estimator lgbm's best error=0.0222\n",
      "[flaml.automl: 08-31 02:09:03] {3133} INFO - iteration 1, current learner lgbm\n",
      "[flaml.automl: 08-31 02:09:03] {3313} INFO -  at 0.7s,\testimator lgbm's best error=0.0222,\tbest estimator lgbm's best error=0.0222\n",
      "[flaml.automl: 08-31 02:09:03] {3133} INFO - iteration 2, current learner lgbm\n",
      "[flaml.automl: 08-31 02:09:04] {3313} INFO -  at 1.0s,\testimator lgbm's best error=0.0151,\tbest estimator lgbm's best error=0.0151\n",
      "[flaml.automl: 08-31 02:09:04] {3133} INFO - iteration 3, current learner xgboost\n",
      "[flaml.automl: 08-31 02:09:04] {3313} INFO -  at 1.3s,\testimator xgboost's best error=0.2904,\tbest estimator lgbm's best error=0.0151\n",
      "[flaml.automl: 08-31 02:09:04] {3133} INFO - iteration 4, current learner lgbm\n",
      "[flaml.automl: 08-31 02:09:04] {3313} INFO -  at 1.6s,\testimator lgbm's best error=0.0104,\tbest estimator lgbm's best error=0.0104\n",
      "[flaml.automl: 08-31 02:09:04] {3133} INFO - iteration 5, current learner lgbm\n",
      "[flaml.automl: 08-31 02:09:05] {3313} INFO -  at 1.9s,\testimator lgbm's best error=0.0104,\tbest estimator lgbm's best error=0.0104\n",
      "[flaml.automl: 08-31 02:09:05] {3133} INFO - iteration 6, current learner lgbm\n",
      "[flaml.automl: 08-31 02:09:05] {3313} INFO -  at 2.2s,\testimator lgbm's best error=0.0100,\tbest estimator lgbm's best error=0.0100\n",
      "[flaml.automl: 08-31 02:09:05] {3133} INFO - iteration 7, current learner lgbm\n",
      "[flaml.automl: 08-31 02:09:05] {3313} INFO -  at 2.5s,\testimator lgbm's best error=0.0100,\tbest estimator lgbm's best error=0.0100\n",
      "[flaml.automl: 08-31 02:09:05] {3133} INFO - iteration 8, current learner lgbm\n",
      "[flaml.automl: 08-31 02:09:06] {3313} INFO -  at 2.8s,\testimator lgbm's best error=0.0100,\tbest estimator lgbm's best error=0.0100\n",
      "[flaml.automl: 08-31 02:09:06] {3133} INFO - iteration 9, current learner lgbm\n",
      "[flaml.automl: 08-31 02:09:06] {3313} INFO -  at 3.3s,\testimator lgbm's best error=0.0096,\tbest estimator lgbm's best error=0.0096\n",
      "[flaml.automl: 08-31 02:09:06] {3133} INFO - iteration 10, current learner xgboost\n",
      "[flaml.automl: 08-31 02:09:06] {3313} INFO -  at 3.6s,\testimator xgboost's best error=0.2904,\tbest estimator lgbm's best error=0.0096\n",
      "[flaml.automl: 08-31 02:09:06] {3133} INFO - iteration 11, current learner lgbm\n",
      "[flaml.automl: 08-31 02:09:07] {3313} INFO -  at 3.9s,\testimator lgbm's best error=0.0096,\tbest estimator lgbm's best error=0.0096\n",
      "[flaml.automl: 08-31 02:09:07] {3133} INFO - iteration 12, current learner lgbm\n",
      "[flaml.automl: 08-31 02:09:08] {3313} INFO -  at 5.4s,\testimator lgbm's best error=0.0086,\tbest estimator lgbm's best error=0.0086\n",
      "[flaml.automl: 08-31 02:09:08] {3133} INFO - iteration 13, current learner xgboost\n",
      "[flaml.automl: 08-31 02:09:09] {3313} INFO -  at 5.8s,\testimator xgboost's best error=0.1335,\tbest estimator lgbm's best error=0.0086\n",
      "[flaml.automl: 08-31 02:09:09] {3133} INFO - iteration 14, current learner lgbm\n",
      "[flaml.automl: 08-31 02:09:10] {3313} INFO -  at 7.7s,\testimator lgbm's best error=0.0068,\tbest estimator lgbm's best error=0.0068\n",
      "[flaml.automl: 08-31 02:09:10] {3133} INFO - iteration 15, current learner xgboost\n",
      "[flaml.automl: 08-31 02:09:11] {3313} INFO -  at 8.1s,\testimator xgboost's best error=0.0128,\tbest estimator lgbm's best error=0.0068\n",
      "[flaml.automl: 08-31 02:09:11] {3133} INFO - iteration 16, current learner lgbm\n",
      "[flaml.automl: 08-31 02:09:13] {3313} INFO -  at 10.0s,\testimator lgbm's best error=0.0068,\tbest estimator lgbm's best error=0.0068\n",
      "[flaml.automl: 08-31 02:09:13] {3133} INFO - iteration 17, current learner xgboost\n",
      "[flaml.automl: 08-31 02:09:13] {3313} INFO -  at 10.4s,\testimator xgboost's best error=0.0128,\tbest estimator lgbm's best error=0.0068\n",
      "[flaml.automl: 08-31 02:09:13] {3133} INFO - iteration 18, current learner xgboost\n",
      "[flaml.automl: 08-31 02:09:14] {3313} INFO -  at 10.8s,\testimator xgboost's best error=0.0128,\tbest estimator lgbm's best error=0.0068\n",
      "[flaml.automl: 08-31 02:09:14] {3133} INFO - iteration 19, current learner xgboost\n",
      "[flaml.automl: 08-31 02:09:14] {3313} INFO -  at 11.3s,\testimator xgboost's best error=0.0105,\tbest estimator lgbm's best error=0.0068\n",
      "[flaml.automl: 08-31 02:09:14] {3133} INFO - iteration 20, current learner lgbm\n",
      "[flaml.automl: 08-31 02:09:16] {3313} INFO -  at 13.6s,\testimator lgbm's best error=0.0068,\tbest estimator lgbm's best error=0.0068\n",
      "[flaml.automl: 08-31 02:09:16] {3133} INFO - iteration 21, current learner catboost\n",
      "[flaml.automl: 08-31 02:09:36] {3313} INFO -  at 33.4s,\testimator catboost's best error=0.0087,\tbest estimator lgbm's best error=0.0068\n",
      "[flaml.automl: 08-31 02:09:36] {3133} INFO - iteration 22, current learner lgbm\n",
      "[flaml.automl: 08-31 02:09:40] {3313} INFO -  at 37.6s,\testimator lgbm's best error=0.0064,\tbest estimator lgbm's best error=0.0064\n",
      "[flaml.automl: 08-31 02:09:40] {3133} INFO - iteration 23, current learner xgboost\n",
      "[flaml.automl: 08-31 02:09:41] {3313} INFO -  at 38.2s,\testimator xgboost's best error=0.0101,\tbest estimator lgbm's best error=0.0064\n",
      "[flaml.automl: 08-31 02:09:41] {3133} INFO - iteration 24, current learner catboost\n",
      "[flaml.automl: 08-31 02:10:22] {3313} INFO -  at 79.5s,\testimator catboost's best error=0.0087,\tbest estimator lgbm's best error=0.0064\n",
      "[flaml.automl: 08-31 02:10:22] {3133} INFO - iteration 25, current learner lgbm\n",
      "[flaml.automl: 08-31 02:10:32] {3313} INFO -  at 89.4s,\testimator lgbm's best error=0.0063,\tbest estimator lgbm's best error=0.0063\n",
      "[flaml.automl: 08-31 02:10:32] {3133} INFO - iteration 26, current learner xgboost\n",
      "[flaml.automl: 08-31 02:10:33] {3313} INFO -  at 89.9s,\testimator xgboost's best error=0.0101,\tbest estimator lgbm's best error=0.0063\n",
      "[flaml.automl: 08-31 02:10:33] {3133} INFO - iteration 27, current learner catboost\n",
      "[flaml.automl: 08-31 02:10:51] {3313} INFO -  at 107.8s,\testimator catboost's best error=0.0083,\tbest estimator lgbm's best error=0.0063\n",
      "[flaml.automl: 08-31 02:10:51] {3133} INFO - iteration 28, current learner xgboost\n",
      "[flaml.automl: 08-31 02:10:51] {3313} INFO -  at 108.7s,\testimator xgboost's best error=0.0094,\tbest estimator lgbm's best error=0.0063\n",
      "[flaml.automl: 08-31 02:10:51] {3133} INFO - iteration 29, current learner lgbm\n",
      "[flaml.automl: 08-31 02:10:56] {3313} INFO -  at 112.8s,\testimator lgbm's best error=0.0063,\tbest estimator lgbm's best error=0.0063\n",
      "[flaml.automl: 08-31 02:10:56] {3133} INFO - iteration 30, current learner lgbm\n",
      "[flaml.automl: 08-31 02:11:22] {3313} INFO -  at 139.0s,\testimator lgbm's best error=0.0063,\tbest estimator lgbm's best error=0.0063\n",
      "[flaml.automl: 08-31 02:11:22] {3133} INFO - iteration 31, current learner lgbm\n",
      "[flaml.automl: 08-31 02:11:26] {3313} INFO -  at 143.0s,\testimator lgbm's best error=0.0063,\tbest estimator lgbm's best error=0.0063\n",
      "[flaml.automl: 08-31 02:11:26] {3133} INFO - iteration 32, current learner xgboost\n",
      "[flaml.automl: 08-31 02:11:26] {3313} INFO -  at 143.5s,\testimator xgboost's best error=0.0094,\tbest estimator lgbm's best error=0.0063\n",
      "[flaml.automl: 08-31 02:11:26] {3133} INFO - iteration 33, current learner lgbm\n",
      "[flaml.automl: 08-31 02:11:29] {3313} INFO -  at 145.9s,\testimator lgbm's best error=0.0062,\tbest estimator lgbm's best error=0.0062\n",
      "[flaml.automl: 08-31 02:11:29] {3133} INFO - iteration 34, current learner xgboost\n",
      "[flaml.automl: 08-31 02:11:29] {3313} INFO -  at 146.4s,\testimator xgboost's best error=0.0094,\tbest estimator lgbm's best error=0.0062\n",
      "[flaml.automl: 08-31 02:11:29] {3133} INFO - iteration 35, current learner xgboost\n",
      "[flaml.automl: 08-31 02:11:30] {3313} INFO -  at 147.1s,\testimator xgboost's best error=0.0091,\tbest estimator lgbm's best error=0.0062\n",
      "[flaml.automl: 08-31 02:11:30] {3133} INFO - iteration 36, current learner xgboost\n",
      "[flaml.automl: 08-31 02:11:30] {3313} INFO -  at 147.7s,\testimator xgboost's best error=0.0091,\tbest estimator lgbm's best error=0.0062\n",
      "[flaml.automl: 08-31 02:11:30] {3133} INFO - iteration 37, current learner xgboost\n",
      "[flaml.automl: 08-31 02:11:32] {3313} INFO -  at 148.8s,\testimator xgboost's best error=0.0091,\tbest estimator lgbm's best error=0.0062\n",
      "[flaml.automl: 08-31 02:11:32] {3133} INFO - iteration 38, current learner lgbm\n",
      "[flaml.automl: 08-31 02:11:40] {3313} INFO -  at 157.2s,\testimator lgbm's best error=0.0049,\tbest estimator lgbm's best error=0.0049\n",
      "[flaml.automl: 08-31 02:11:40] {3133} INFO - iteration 39, current learner lgbm\n",
      "[flaml.automl: 08-31 02:11:50] {3313} INFO -  at 167.5s,\testimator lgbm's best error=0.0046,\tbest estimator lgbm's best error=0.0046\n",
      "[flaml.automl: 08-31 02:11:50] {3133} INFO - iteration 40, current learner lgbm\n",
      "[flaml.automl: 08-31 02:11:58] {3313} INFO -  at 175.4s,\testimator lgbm's best error=0.0046,\tbest estimator lgbm's best error=0.0046\n",
      "[flaml.automl: 08-31 02:11:58] {3133} INFO - iteration 41, current learner lgbm\n",
      "[flaml.automl: 08-31 02:12:04] {3313} INFO -  at 181.5s,\testimator lgbm's best error=0.0046,\tbest estimator lgbm's best error=0.0046\n",
      "[flaml.automl: 08-31 02:12:04] {3133} INFO - iteration 42, current learner lgbm\n",
      "[flaml.automl: 08-31 02:12:23] {3313} INFO -  at 200.4s,\testimator lgbm's best error=0.0046,\tbest estimator lgbm's best error=0.0046\n",
      "[flaml.automl: 08-31 02:12:23] {3133} INFO - iteration 43, current learner catboost\n",
      "[flaml.automl: 08-31 02:12:54] {3313} INFO -  at 230.9s,\testimator catboost's best error=0.0083,\tbest estimator lgbm's best error=0.0046\n",
      "[flaml.automl: 08-31 02:12:54] {3133} INFO - iteration 44, current learner lgbm\n",
      "[flaml.automl: 08-31 02:13:32] {3313} INFO -  at 269.3s,\testimator lgbm's best error=0.0045,\tbest estimator lgbm's best error=0.0045\n",
      "[flaml.automl: 08-31 02:13:32] {3133} INFO - iteration 45, current learner lgbm\n",
      "[flaml.automl: 08-31 02:13:42] {3313} INFO -  at 278.9s,\testimator lgbm's best error=0.0045,\tbest estimator lgbm's best error=0.0045\n",
      "[flaml.automl: 08-31 02:13:42] {3133} INFO - iteration 46, current learner xgboost\n",
      "[flaml.automl: 08-31 02:13:42] {3313} INFO -  at 279.5s,\testimator xgboost's best error=0.0091,\tbest estimator lgbm's best error=0.0045\n",
      "[flaml.automl: 08-31 02:13:42] {3133} INFO - iteration 47, current learner lgbm\n",
      "[flaml.automl: 08-31 02:14:58] {3313} INFO -  at 355.4s,\testimator lgbm's best error=0.0045,\tbest estimator lgbm's best error=0.0045\n",
      "[flaml.automl: 08-31 02:14:58] {3133} INFO - iteration 48, current learner lgbm\n",
      "[flaml.automl: 08-31 02:15:08] {3313} INFO -  at 365.3s,\testimator lgbm's best error=0.0045,\tbest estimator lgbm's best error=0.0045\n",
      "[flaml.automl: 08-31 02:15:08] {3133} INFO - iteration 49, current learner xgboost\n",
      "[flaml.automl: 08-31 02:15:09] {3313} INFO -  at 366.4s,\testimator xgboost's best error=0.0088,\tbest estimator lgbm's best error=0.0045\n",
      "[flaml.automl: 08-31 02:15:09] {3133} INFO - iteration 50, current learner lgbm\n",
      "[flaml.automl: 08-31 02:15:15] {3313} INFO -  at 372.5s,\testimator lgbm's best error=0.0045,\tbest estimator lgbm's best error=0.0045\n",
      "[flaml.automl: 08-31 02:15:15] {3133} INFO - iteration 51, current learner lgbm\n",
      "[flaml.automl: 08-31 02:15:50] {3313} INFO -  at 407.6s,\testimator lgbm's best error=0.0045,\tbest estimator lgbm's best error=0.0045\n",
      "[flaml.automl: 08-31 02:15:50] {3133} INFO - iteration 52, current learner lgbm\n",
      "[flaml.automl: 08-31 02:16:20] {3313} INFO -  at 437.0s,\testimator lgbm's best error=0.0045,\tbest estimator lgbm's best error=0.0045\n",
      "[flaml.automl: 08-31 02:16:20] {3133} INFO - iteration 53, current learner lgbm\n",
      "[flaml.automl: 08-31 02:16:47] {3313} INFO -  at 464.7s,\testimator lgbm's best error=0.0045,\tbest estimator lgbm's best error=0.0045\n",
      "[flaml.automl: 08-31 02:16:47] {3133} INFO - iteration 54, current learner xgboost\n",
      "[flaml.automl: 08-31 02:16:48] {3313} INFO -  at 465.3s,\testimator xgboost's best error=0.0088,\tbest estimator lgbm's best error=0.0045\n",
      "[flaml.automl: 08-31 02:16:48] {3133} INFO - iteration 55, current learner xgboost\n",
      "[flaml.automl: 08-31 02:16:51] {3313} INFO -  at 468.6s,\testimator xgboost's best error=0.0081,\tbest estimator lgbm's best error=0.0045\n",
      "[flaml.automl: 08-31 02:16:51] {3133} INFO - iteration 56, current learner xgboost\n",
      "[flaml.automl: 08-31 02:16:52] {3313} INFO -  at 469.7s,\testimator xgboost's best error=0.0081,\tbest estimator lgbm's best error=0.0045\n",
      "[flaml.automl: 08-31 02:16:52] {3133} INFO - iteration 57, current learner xgboost\n",
      "[flaml.automl: 08-31 02:17:16] {3313} INFO -  at 492.8s,\testimator xgboost's best error=0.0062,\tbest estimator lgbm's best error=0.0045\n",
      "[flaml.automl: 08-31 02:17:25] {3577} INFO - retrain lgbm for 9.6s\n",
      "[flaml.automl: 08-31 02:17:25] {3584} INFO - retrained model: LGBMRegressor(colsample_bytree=0.6155762959638018,\n",
      "              learning_rate=0.24828517320539853, max_bin=1023,\n",
      "              min_child_samples=2, n_estimators=167, num_leaves=1270,\n",
      "              reg_alpha=0.007542890796625709, reg_lambda=0.005445061815445535,\n",
      "              verbose=-1)\n",
      "[flaml.automl: 08-31 02:17:25] {2862} INFO - fit succeeded\n",
      "[flaml.automl: 08-31 02:17:25] {2863} INFO - Time taken to find the best model: 269.31075286865234\n"
     ]
    }
   ],
   "source": [
    "#AutoML function is useful for detecting most optimal model as its metric,task and time_budget.\n",
    "#After finishing whole iteration of this function, it is possible to learn best estimator and its best configurations.\n",
    "automl3 = AutoML()\n",
    "settings = {\n",
    "    \"time_budget\": 500,  \n",
    "    \"metric\": 'mae',\n",
    "    \"estimator_list\": ['lgbm','xgboost','catboost'],\n",
    "    \"task\": 'regression',\n",
    "}\n",
    "automl3.fit(X_train=X_train, y_train=y_train.values, **settings)"
   ]
  },
  {
   "cell_type": "code",
   "execution_count": 90,
   "metadata": {},
   "outputs": [
    {
     "data": {
      "text/plain": [
       "'lgbm'"
      ]
     },
     "execution_count": 90,
     "metadata": {},
     "output_type": "execute_result"
    }
   ],
   "source": [
    "#best estimator is lgbm\n",
    "automl3.best_estimator"
   ]
  },
  {
   "cell_type": "code",
   "execution_count": 91,
   "metadata": {},
   "outputs": [
    {
     "data": {
      "text/plain": [
       "{'n_estimators': 167,\n",
       " 'num_leaves': 1270,\n",
       " 'min_child_samples': 2,\n",
       " 'learning_rate': 0.24828517320539853,\n",
       " 'log_max_bin': 10,\n",
       " 'colsample_bytree': 0.6155762959638018,\n",
       " 'reg_alpha': 0.007542890796625709,\n",
       " 'reg_lambda': 0.005445061815445535}"
      ]
     },
     "execution_count": 91,
     "metadata": {},
     "output_type": "execute_result"
    }
   ],
   "source": [
    "lgbm_best_config = automl3.best_config\n",
    "lgbm_best_config"
   ]
  },
  {
   "cell_type": "code",
   "execution_count": 96,
   "metadata": {},
   "outputs": [
    {
     "data": {
      "text/html": [
       "<style>#sk-container-id-3 {color: black;background-color: white;}#sk-container-id-3 pre{padding: 0;}#sk-container-id-3 div.sk-toggleable {background-color: white;}#sk-container-id-3 label.sk-toggleable__label {cursor: pointer;display: block;width: 100%;margin-bottom: 0;padding: 0.3em;box-sizing: border-box;text-align: center;}#sk-container-id-3 label.sk-toggleable__label-arrow:before {content: \"▸\";float: left;margin-right: 0.25em;color: #696969;}#sk-container-id-3 label.sk-toggleable__label-arrow:hover:before {color: black;}#sk-container-id-3 div.sk-estimator:hover label.sk-toggleable__label-arrow:before {color: black;}#sk-container-id-3 div.sk-toggleable__content {max-height: 0;max-width: 0;overflow: hidden;text-align: left;background-color: #f0f8ff;}#sk-container-id-3 div.sk-toggleable__content pre {margin: 0.2em;color: black;border-radius: 0.25em;background-color: #f0f8ff;}#sk-container-id-3 input.sk-toggleable__control:checked~div.sk-toggleable__content {max-height: 200px;max-width: 100%;overflow: auto;}#sk-container-id-3 input.sk-toggleable__control:checked~label.sk-toggleable__label-arrow:before {content: \"▾\";}#sk-container-id-3 div.sk-estimator input.sk-toggleable__control:checked~label.sk-toggleable__label {background-color: #d4ebff;}#sk-container-id-3 div.sk-label input.sk-toggleable__control:checked~label.sk-toggleable__label {background-color: #d4ebff;}#sk-container-id-3 input.sk-hidden--visually {border: 0;clip: rect(1px 1px 1px 1px);clip: rect(1px, 1px, 1px, 1px);height: 1px;margin: -1px;overflow: hidden;padding: 0;position: absolute;width: 1px;}#sk-container-id-3 div.sk-estimator {font-family: monospace;background-color: #f0f8ff;border: 1px dotted black;border-radius: 0.25em;box-sizing: border-box;margin-bottom: 0.5em;}#sk-container-id-3 div.sk-estimator:hover {background-color: #d4ebff;}#sk-container-id-3 div.sk-parallel-item::after {content: \"\";width: 100%;border-bottom: 1px solid gray;flex-grow: 1;}#sk-container-id-3 div.sk-label:hover label.sk-toggleable__label {background-color: #d4ebff;}#sk-container-id-3 div.sk-serial::before {content: \"\";position: absolute;border-left: 1px solid gray;box-sizing: border-box;top: 0;bottom: 0;left: 50%;z-index: 0;}#sk-container-id-3 div.sk-serial {display: flex;flex-direction: column;align-items: center;background-color: white;padding-right: 0.2em;padding-left: 0.2em;position: relative;}#sk-container-id-3 div.sk-item {position: relative;z-index: 1;}#sk-container-id-3 div.sk-parallel {display: flex;align-items: stretch;justify-content: center;background-color: white;position: relative;}#sk-container-id-3 div.sk-item::before, #sk-container-id-3 div.sk-parallel-item::before {content: \"\";position: absolute;border-left: 1px solid gray;box-sizing: border-box;top: 0;bottom: 0;left: 50%;z-index: -1;}#sk-container-id-3 div.sk-parallel-item {display: flex;flex-direction: column;z-index: 1;position: relative;background-color: white;}#sk-container-id-3 div.sk-parallel-item:first-child::after {align-self: flex-end;width: 50%;}#sk-container-id-3 div.sk-parallel-item:last-child::after {align-self: flex-start;width: 50%;}#sk-container-id-3 div.sk-parallel-item:only-child::after {width: 0;}#sk-container-id-3 div.sk-dashed-wrapped {border: 1px dashed gray;margin: 0 0.4em 0.5em 0.4em;box-sizing: border-box;padding-bottom: 0.4em;background-color: white;}#sk-container-id-3 div.sk-label label {font-family: monospace;font-weight: bold;display: inline-block;line-height: 1.2em;}#sk-container-id-3 div.sk-label-container {text-align: center;}#sk-container-id-3 div.sk-container {/* jupyter's `normalize.less` sets `[hidden] { display: none; }` but bootstrap.min.css set `[hidden] { display: none !important; }` so we also need the `!important` here to be able to override the default hidden behavior on the sphinx rendered scikit-learn.org. See: https://github.com/scikit-learn/scikit-learn/issues/21755 */display: inline-block !important;position: relative;}#sk-container-id-3 div.sk-text-repr-fallback {display: none;}</style><div id=\"sk-container-id-3\" class=\"sk-top-container\"><div class=\"sk-text-repr-fallback\"><pre>LGBMRegressor(colsample_bytree=0.6155762959638018,\n",
       "              learning_rate=0.24828517320539853, log_max_bin=10,\n",
       "              min_child_samples=2, n_estimators=167, num_leaves=1270,\n",
       "              reg_alpha=0.007542890796625709, reg_lambda=0.005445061815445535)</pre><b>In a Jupyter environment, please rerun this cell to show the HTML representation or trust the notebook. <br />On GitHub, the HTML representation is unable to render, please try loading this page with nbviewer.org.</b></div><div class=\"sk-container\" hidden><div class=\"sk-item\"><div class=\"sk-estimator sk-toggleable\"><input class=\"sk-toggleable__control sk-hidden--visually\" id=\"sk-estimator-id-3\" type=\"checkbox\" checked><label for=\"sk-estimator-id-3\" class=\"sk-toggleable__label sk-toggleable__label-arrow\">LGBMRegressor</label><div class=\"sk-toggleable__content\"><pre>LGBMRegressor(colsample_bytree=0.6155762959638018,\n",
       "              learning_rate=0.24828517320539853, log_max_bin=10,\n",
       "              min_child_samples=2, n_estimators=167, num_leaves=1270,\n",
       "              reg_alpha=0.007542890796625709, reg_lambda=0.005445061815445535)</pre></div></div></div></div></div>"
      ],
      "text/plain": [
       "LGBMRegressor(colsample_bytree=0.6155762959638018,\n",
       "              learning_rate=0.24828517320539853, log_max_bin=10,\n",
       "              min_child_samples=2, n_estimators=167, num_leaves=1270,\n",
       "              reg_alpha=0.007542890796625709, reg_lambda=0.005445061815445535)"
      ]
     },
     "execution_count": 96,
     "metadata": {},
     "output_type": "execute_result"
    }
   ],
   "source": [
    "from lightgbm import LGBMRegressor\n",
    "model_lgbm = LGBMRegressor(**lgbm_best_config)\n",
    "model_lgbm.fit(X_train, y_train)"
   ]
  },
  {
   "cell_type": "code",
   "execution_count": 97,
   "metadata": {},
   "outputs": [],
   "source": [
    "preds = model_lgbm.predict(X_val)"
   ]
  },
  {
   "cell_type": "code",
   "execution_count": 99,
   "metadata": {},
   "outputs": [
    {
     "data": {
      "text/plain": [
       "0.0040886692145699725"
      ]
     },
     "execution_count": 99,
     "metadata": {},
     "output_type": "execute_result"
    }
   ],
   "source": [
    "mean_absolute_error(y_val,preds)"
   ]
  }
 ],
 "metadata": {
  "kernelspec": {
   "display_name": "Python 3.8.13 ('base')",
   "language": "python",
   "name": "python3"
  },
  "language_info": {
   "codemirror_mode": {
    "name": "ipython",
    "version": 3
   },
   "file_extension": ".py",
   "mimetype": "text/x-python",
   "name": "python",
   "nbconvert_exporter": "python",
   "pygments_lexer": "ipython3",
   "version": "3.8.13"
  },
  "orig_nbformat": 4,
  "vscode": {
   "interpreter": {
    "hash": "29866788797fa931122c05dad8e4baa0627b61d3a1f28b946453dd873f468836"
   }
  }
 },
 "nbformat": 4,
 "nbformat_minor": 2
}
